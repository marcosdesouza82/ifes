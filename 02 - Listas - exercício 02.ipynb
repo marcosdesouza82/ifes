{
 "cells": [
  {
   "cell_type": "markdown",
   "metadata": {},
   "source": [
    "# Exercício 02\n",
    "Crie um programa onde o usuário possa digitar vários valores numéricos e cadastre-os em uma lista. Caso o número já exista na lista, não poderá ser adicionado. No final, serão exibidos todos os valores únicos digitados, em ordem crescente.\n"
   ]
  },
  {
   "cell_type": "code",
   "execution_count": null,
   "metadata": {},
   "outputs": [],
   "source": [
    "numeros = list()\n",
    "while True:\n",
    "    n = int(input('Digite um valor: '))\n",
    "    if n not in numeros:\n",
    "        numeros.append(n)\n",
    "        print('Valor adicionado com sucesso')\n",
    "    else:\n",
    "        print('Valor duplicado. Não vou adicionar! ')\n",
    "    r = str(input('Quer continuar? [S/N] '))\n",
    "    if r in 'Nn':\n",
    "        break\n",
    "print('=' * 30)\n",
    "numeros.sort()\n",
    "print(f'Você digitou os valores, {numeros}')"
   ]
  },
  {
   "cell_type": "code",
   "execution_count": null,
   "metadata": {},
   "outputs": [],
   "source": [
    "# Parte 1\n",
    "numeros = list()\n",
    "while True:\n",
    "    n = int(input('Digite um valor: '))\n",
    "    if n not in numeros:\n",
    "        numeros.append(n)\n",
    "        print('Valor adicionado com sucesso')\n",
    "    else:\n",
    "        print('Valor duplicado. Não vou adicionar! ')\n",
    "    r = str(input('Quer continuar? [S/N] '))\n",
    "    if r in 'Nn':\n",
    "        break\n",
    "print('=' * 30)\n",
    "numeros.sort()\n",
    "print(f'Você digitou os valores, {numeros}')"
   ]
  },
  {
   "cell_type": "code",
   "execution_count": null,
   "metadata": {},
   "outputs": [],
   "source": []
  }
 ],
 "metadata": {
  "kernelspec": {
   "display_name": "Python 3",
   "language": "python",
   "name": "python3"
  },
  "language_info": {
   "codemirror_mode": {
    "name": "ipython",
    "version": 3
   },
   "file_extension": ".py",
   "mimetype": "text/x-python",
   "name": "python",
   "nbconvert_exporter": "python",
   "pygments_lexer": "ipython3",
   "version": "3.7.3"
  }
 },
 "nbformat": 4,
 "nbformat_minor": 2
}
