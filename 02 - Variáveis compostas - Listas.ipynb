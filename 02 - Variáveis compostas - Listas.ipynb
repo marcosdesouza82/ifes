{
 "cells": [
  {
   "cell_type": "markdown",
   "metadata": {},
   "source": [
    "# Tuplas\n",
    "Tupla é uma estrutura de dados semelhante a lista. Porém, ela tem a característica de ser imutável, ou seja, após uma tupla ser criada, ela não pode ser alterada.\n",
    "\n",
    "times_rj = ('Botafogo', 'Flamengo', 'Fluminense', 'Vasco')\n",
    "\n",
    "# Listas\n",
    "Lista é uma coleção de valores indexada, em que cada valor é identificado por um índice. O primeiro item na lista está no índice 0, o segundo no índice 1 e assim por diante.\n",
    "\n",
    "Para criar uma lista com elementos deve-se usar colchetes e adicionar os itens entre eles separados por vírgula, como mostra o Código 1.\n",
    "\n",
    "programadores = ['Victor', 'Juliana', 'Samuel', 'Caio', 'Luana']\n",
    "\n",
    "# Dicionário\n",
    "Os dicionários representam coleções de dados que contém na sua estrutura um conjunto de pares chave/valor, nos quais cada chave individual tem um valor associado. Esse objeto representa a ideia de um mapa, que entendemos como uma coleção associativa desordenada. A associação nos dicionários é feita por meio de uma chave que faz referência a um valor.\n",
    "\n",
    "dados_cliente = { 'Nome': 'Renan', 'Endereco': 'Rua Cruzeiro do Sul', 'Telefone': '982503645' }"
   ]
  },
  {
   "cell_type": "markdown",
   "metadata": {},
   "source": [
    "# Listas (Parte 1)\n",
    "Lista é uma coleção de valores indexada, em que cada valor é identificado por um índice. O primeiro item na lista está no índice 0, o segundo no índice 1 e assim por diante.\n",
    "\n",
    "Para criar uma lista com elementos deve-se usar colchetes e adicionar os itens entre eles separados por vírgula, como mostra o Código 1.\n",
    "\n",
    "programadores = ['Victor', 'Juliana', 'Samuel', 'Caio', 'Luana']\n",
    "\n"
   ]
  },
  {
   "cell_type": "code",
   "execution_count": 1,
   "metadata": {},
   "outputs": [
    {
     "name": "stdout",
     "output_type": "stream",
     "text": [
      "['Victor', 'Juliana', 'Samuel', 'Caio', 'Luana']\n",
      "<class 'list'>\n",
      "5\n",
      "Juliana\n"
     ]
    }
   ],
   "source": [
    "programadores = ['Victor', 'Juliana', 'Samuel', 'Caio', 'Luana']\n",
    "print(programadores)\n",
    "print(type(programadores))\n",
    "print(len(programadores))\n",
    "print(programadores[1])\n"
   ]
  },
  {
   "cell_type": "markdown",
   "metadata": {},
   "source": [
    "# As listas são mutáveis! "
   ]
  },
  {
   "cell_type": "code",
   "execution_count": 2,
   "metadata": {},
   "outputs": [
    {
     "name": "stdout",
     "output_type": "stream",
     "text": [
      "['Victor', 'Juliana', 'Samuel', 'Marcos', 'Luana']\n"
     ]
    }
   ],
   "source": [
    "programadores[3] = 'Marcos' # a posição 3 era Caio\n",
    "print(programadores)"
   ]
  },
  {
   "cell_type": "markdown",
   "metadata": {},
   "source": [
    "# Adicionar Elementos\n",
    "O comando append adicionará o elemento no final da lista. "
   ]
  },
  {
   "cell_type": "code",
   "execution_count": 3,
   "metadata": {},
   "outputs": [
    {
     "name": "stdout",
     "output_type": "stream",
     "text": [
      "['Victor', 'Juliana', 'Samuel', 'Marcos', 'Luana', 'Bernando']\n"
     ]
    }
   ],
   "source": [
    "programadores.append('Bernando')\n",
    "print(programadores)"
   ]
  },
  {
   "cell_type": "markdown",
   "metadata": {},
   "source": [
    "# Inserir Elementos\n",
    "O comando insert adicionará o elemento na posição desejada."
   ]
  },
  {
   "cell_type": "code",
   "execution_count": 4,
   "metadata": {},
   "outputs": [
    {
     "name": "stdout",
     "output_type": "stream",
     "text": [
      "['Beatriz', 'Victor', 'Juliana', 'Samuel', 'Marcos', 'Luana', 'Bernando']\n"
     ]
    }
   ],
   "source": [
    "programadores.insert(0,'Beatriz')\n",
    "print(programadores)"
   ]
  },
  {
   "cell_type": "markdown",
   "metadata": {},
   "source": [
    "# Apagar Elementos\n",
    "\n",
    "Os elementos serão eliminados e será refeito o índice! "
   ]
  },
  {
   "cell_type": "code",
   "execution_count": 5,
   "metadata": {},
   "outputs": [
    {
     "name": "stdout",
     "output_type": "stream",
     "text": [
      "['Victor', 'Juliana', 'Samuel', 'Marcos', 'Luana', 'Bernando']\n"
     ]
    }
   ],
   "source": [
    "del programadores [0]\n",
    "print(programadores)"
   ]
  },
  {
   "cell_type": "code",
   "execution_count": 7,
   "metadata": {},
   "outputs": [
    {
     "name": "stdout",
     "output_type": "stream",
     "text": [
      "['Samuel', 'Marcos', 'Luana', 'Bernando']\n"
     ]
    }
   ],
   "source": [
    "programadores.pop(0) #normalmente o método pop é para apagar o último elementos, mas você pode passar o parâmetro desejado.\n",
    "print(programadores) "
   ]
  },
  {
   "cell_type": "code",
   "execution_count": 8,
   "metadata": {},
   "outputs": [
    {
     "name": "stdout",
     "output_type": "stream",
     "text": [
      "['Samuel', 'Marcos', 'Luana']\n"
     ]
    }
   ],
   "source": [
    "programadores.pop(3)\n",
    "print(programadores)"
   ]
  },
  {
   "cell_type": "code",
   "execution_count": 9,
   "metadata": {},
   "outputs": [
    {
     "ename": "IndexError",
     "evalue": "pop index out of range",
     "output_type": "error",
     "traceback": [
      "\u001b[1;31m---------------------------------------------------------------------------\u001b[0m",
      "\u001b[1;31mIndexError\u001b[0m                                Traceback (most recent call last)",
      "\u001b[1;32m<ipython-input-9-e44397bf60f6>\u001b[0m in \u001b[0;36m<module>\u001b[1;34m\u001b[0m\n\u001b[1;32m----> 1\u001b[1;33m \u001b[0mprogramadores\u001b[0m\u001b[1;33m.\u001b[0m\u001b[0mpop\u001b[0m\u001b[1;33m(\u001b[0m\u001b[1;36m4\u001b[0m\u001b[1;33m)\u001b[0m \u001b[1;31m#removendo item de elemento que não existe.\u001b[0m\u001b[1;33m\u001b[0m\u001b[1;33m\u001b[0m\u001b[0m\n\u001b[0m\u001b[0;32m      2\u001b[0m \u001b[0mprint\u001b[0m\u001b[1;33m(\u001b[0m\u001b[0mprogramadores\u001b[0m\u001b[1;33m)\u001b[0m\u001b[1;33m\u001b[0m\u001b[1;33m\u001b[0m\u001b[0m\n",
      "\u001b[1;31mIndexError\u001b[0m: pop index out of range"
     ]
    }
   ],
   "source": [
    "programadores.pop(4) #removendo item de elemento que não existe.\n",
    "print(programadores) # o elemento está fora do range"
   ]
  },
  {
   "cell_type": "code",
   "execution_count": 7,
   "metadata": {},
   "outputs": [
    {
     "name": "stdout",
     "output_type": "stream",
     "text": [
      "['Juliana', 'Samuel', 'Luana', 'Bernando']\n"
     ]
    }
   ],
   "source": [
    "programadores.remove('Marcos') # Usando este método, o parâmetro utilizado é o valor! \n",
    "print(programadores)           # O remove apagará o primeiro elemento da lista com o valor declarado. \n",
    "                               # Objeto iterável. Irá varrer posição a posição em busca de um item."
   ]
  },
  {
   "cell_type": "code",
   "execution_count": 8,
   "metadata": {},
   "outputs": [
    {
     "ename": "ValueError",
     "evalue": "list.remove(x): x not in list",
     "output_type": "error",
     "traceback": [
      "\u001b[1;31m---------------------------------------------------------------------------\u001b[0m",
      "\u001b[1;31mValueError\u001b[0m                                Traceback (most recent call last)",
      "\u001b[1;32m<ipython-input-8-ed55fce4cfaf>\u001b[0m in \u001b[0;36m<module>\u001b[1;34m\u001b[0m\n\u001b[1;32m----> 1\u001b[1;33m \u001b[0mprogramadores\u001b[0m\u001b[1;33m.\u001b[0m\u001b[0mremove\u001b[0m\u001b[1;33m(\u001b[0m\u001b[1;34m'Carol'\u001b[0m\u001b[1;33m)\u001b[0m \u001b[1;31m#removendo um elemento que não está na lista\u001b[0m\u001b[1;33m\u001b[0m\u001b[1;33m\u001b[0m\u001b[0m\n\u001b[0m\u001b[0;32m      2\u001b[0m \u001b[0mprint\u001b[0m\u001b[1;33m(\u001b[0m\u001b[0mprogramadores\u001b[0m\u001b[1;33m)\u001b[0m\u001b[1;33m\u001b[0m\u001b[1;33m\u001b[0m\u001b[0m\n",
      "\u001b[1;31mValueError\u001b[0m: list.remove(x): x not in list"
     ]
    }
   ],
   "source": [
    "programadores.remove('Carol') #removendo um elemento que não está na lista\n",
    "print(programadores)"
   ]
  },
  {
   "cell_type": "code",
   "execution_count": 9,
   "metadata": {},
   "outputs": [
    {
     "name": "stdout",
     "output_type": "stream",
     "text": [
      "Não encontrei o nome na lista\n",
      "['Juliana', 'Samuel', 'Luana', 'Bernando']\n"
     ]
    }
   ],
   "source": [
    "if 'Carol' in programadores:\n",
    "    programadores.remove('Carol')\n",
    "else:\n",
    "    print('Não encontrei o nome na lista')\n",
    "\n",
    "    \n",
    "print(programadores)"
   ]
  },
  {
   "cell_type": "markdown",
   "metadata": {},
   "source": [
    "# Armazenamento de dados com tipos diferentes\n",
    "\n",
    "A lista é heterogênea, podendo armazenar dados de tipos diferentes, como por exemplom string, inteiro e float. A string necessita estar entre ‘aspas’.\n"
   ]
  },
  {
   "cell_type": "code",
   "execution_count": 10,
   "metadata": {},
   "outputs": [
    {
     "name": "stdout",
     "output_type": "stream",
     "text": [
      "['Joao', 30, 1.78]\n"
     ]
    }
   ],
   "source": [
    "pessoa = ['Joao', 30, 1.78]\n",
    "print(pessoa)"
   ]
  },
  {
   "cell_type": "markdown",
   "metadata": {},
   "source": [
    "# Criar listas através de range"
   ]
  },
  {
   "cell_type": "code",
   "execution_count": 17,
   "metadata": {},
   "outputs": [
    {
     "name": "stdout",
     "output_type": "stream",
     "text": [
      "[4, 5, 6, 7, 8, 9, 10]\n"
     ]
    }
   ],
   "source": [
    "valores=list(range(4,11)) # o range vai começar em 4 e parar em 10. O último elemento é eliminado.\n",
    "print(valores)"
   ]
  },
  {
   "cell_type": "code",
   "execution_count": 18,
   "metadata": {},
   "outputs": [
    {
     "name": "stdout",
     "output_type": "stream",
     "text": [
      "[8, 3, 4, 6, 8, 9]\n"
     ]
    }
   ],
   "source": [
    "valores2=[8,3,4,6,8,9]\n",
    "print(valores2)"
   ]
  },
  {
   "cell_type": "code",
   "execution_count": 35,
   "metadata": {},
   "outputs": [
    {
     "name": "stdout",
     "output_type": "stream",
     "text": [
      "[3, 4, 6, 8, 8, 9]\n",
      "[3, 4, 6, 8, 8, 9]\n"
     ]
    }
   ],
   "source": [
    "valores2.sort()\n",
    "print(valores2)\n",
    "\n",
    "print(sorted(valores2))"
   ]
  },
  {
   "cell_type": "code",
   "execution_count": 37,
   "metadata": {},
   "outputs": [
    {
     "name": "stdout",
     "output_type": "stream",
     "text": [
      "[9, 8, 8, 6, 4, 3]\n"
     ]
    }
   ],
   "source": [
    "valores2.sort(reverse=True)\n",
    "print(valores2)"
   ]
  },
  {
   "cell_type": "code",
   "execution_count": 39,
   "metadata": {},
   "outputs": [
    {
     "name": "stdout",
     "output_type": "stream",
     "text": [
      "6\n",
      "Essa lista tem 6 elementos.\n"
     ]
    }
   ],
   "source": [
    "print(len(valores2))\n",
    "print(f'Essa lista tem {len(valores2)} elementos.')"
   ]
  },
  {
   "cell_type": "markdown",
   "metadata": {},
   "source": [
    "# Organizando os valores com for"
   ]
  },
  {
   "cell_type": "code",
   "execution_count": 41,
   "metadata": {},
   "outputs": [
    {
     "name": "stdout",
     "output_type": "stream",
     "text": [
      "[3, 6, 2]\n"
     ]
    }
   ],
   "source": [
    "valores3 = []\n",
    "valores3.append(3)\n",
    "valores3.append(6)\n",
    "valores3.append(2)\n",
    "print(valores3)"
   ]
  },
  {
   "cell_type": "code",
   "execution_count": 45,
   "metadata": {},
   "outputs": [
    {
     "name": "stdout",
     "output_type": "stream",
     "text": [
      "3...\n",
      "6...\n",
      "2...\n",
      "2..."
     ]
    }
   ],
   "source": [
    "for v in valores3:\n",
    "    print(f'{v}...')\n",
    "    \n"
   ]
  },
  {
   "cell_type": "code",
   "execution_count": 46,
   "metadata": {},
   "outputs": [
    {
     "name": "stdout",
     "output_type": "stream",
     "text": [
      "3...6...2..."
     ]
    }
   ],
   "source": [
    "for v in valores3:\n",
    "    print(f'{v}...' ,end='')"
   ]
  },
  {
   "cell_type": "code",
   "execution_count": 48,
   "metadata": {},
   "outputs": [
    {
     "name": "stdout",
     "output_type": "stream",
     "text": [
      "Na posição 0 foi encontados o valor 3\n",
      "Na posição 1 foi encontados o valor 6\n",
      "Na posição 2 foi encontados o valor 2\n",
      "Cheguei ao final da lista.\n"
     ]
    }
   ],
   "source": [
    "for c, v in enumerate(valores3):\n",
    "    print(f'Na posição {c} foi encontados o valor {v}')\n",
    "print('Cheguei ao final da lista.')"
   ]
  },
  {
   "cell_type": "code",
   "execution_count": 2,
   "metadata": {},
   "outputs": [
    {
     "name": "stdout",
     "output_type": "stream",
     "text": [
      "Digite um valor numérico: 22\n",
      "Digite um valor numérico: 3\n",
      "Digite um valor numérico: 5\n",
      "Digite um valor numérico: 6\n",
      "Digite um valor numérico: 7\n",
      "Na posição 0 foi encontados o valor 22!\n",
      "Na posição 1 foi encontados o valor 3!\n",
      "Na posição 2 foi encontados o valor 5!\n",
      "Na posição 3 foi encontados o valor 6!\n",
      "Na posição 4 foi encontados o valor 7!\n",
      "Cheguei ao final da lista.\n"
     ]
    }
   ],
   "source": [
    "valores4 = list()\n",
    "for cont in range (0, 5):\n",
    "    valores4.append(int(input('Digite um valor numérico: ')))\n",
    "\n",
    "for c, v in enumerate(valores4):\n",
    "    print(f'Na posição {c} foi encontados o valor {v}!')\n",
    "print('Cheguei ao final da lista.')\n",
    "    "
   ]
  },
  {
   "cell_type": "markdown",
   "metadata": {},
   "source": [
    "# Ligação e cópia de listas"
   ]
  },
  {
   "cell_type": "code",
   "execution_count": 3,
   "metadata": {},
   "outputs": [
    {
     "name": "stdout",
     "output_type": "stream",
     "text": [
      "Lista C: [2, 4, 3, 1]\n",
      "Lista D: [2, 4, 3, 1]\n"
     ]
    }
   ],
   "source": [
    "c = [2, 4, 3, 1]\n",
    "d = c\n",
    "print(f'Lista C: {c}')\n",
    "print(f'Lista D: {d}')\n"
   ]
  },
  {
   "cell_type": "code",
   "execution_count": 4,
   "metadata": {},
   "outputs": [
    {
     "name": "stdout",
     "output_type": "stream",
     "text": [
      "Lista C: [2, 4, 8, 1]\n",
      "Lista D: [2, 4, 8, 1]\n"
     ]
    }
   ],
   "source": [
    "d[2] = 8 #Neste caso o Python entende como uma ligação\n",
    "print(f'Lista C: {c}')\n",
    "print(f'Lista D: {d}')"
   ]
  },
  {
   "cell_type": "code",
   "execution_count": 5,
   "metadata": {},
   "outputs": [
    {
     "name": "stdout",
     "output_type": "stream",
     "text": [
      "Lista C: [2, 4, 3, 1]\n",
      "Lista D: [2, 4, 3, 1]\n"
     ]
    }
   ],
   "source": [
    "c = [2, 4, 3, 1]\n",
    "d = c[:] # Cria uma cópia de c dentro de d. É um fatiamento completo da estrutura de dados.\n",
    "print(f'Lista C: {c}')\n",
    "print(f'Lista D: {d}')"
   ]
  },
  {
   "cell_type": "code",
   "execution_count": 6,
   "metadata": {},
   "outputs": [
    {
     "name": "stdout",
     "output_type": "stream",
     "text": [
      "Lista C: [2, 4, 3, 1]\n",
      "Lista D: [2, 4, 8, 1]\n"
     ]
    }
   ],
   "source": [
    "d[2] = 8 #Neste caso o Python fará uma cópia\n",
    "print(f'Lista C: {c}')\n",
    "print(f'Lista D: {d}')"
   ]
  },
  {
   "cell_type": "markdown",
   "metadata": {},
   "source": [
    "# Listas (Parte 2)"
   ]
  },
  {
   "cell_type": "markdown",
   "metadata": {},
   "source": [
    "Listas dentro de listas. \n",
    "Posicionamento de elementos em listas compostas."
   ]
  },
  {
   "cell_type": "code",
   "execution_count": 12,
   "metadata": {},
   "outputs": [
    {
     "name": "stdout",
     "output_type": "stream",
     "text": [
      "[['Pedro', 25], ['Maria', 49], ['Roberto', 19]]\n",
      "Pedro\n",
      "49\n",
      "['Maria', 49]\n"
     ]
    }
   ],
   "source": [
    "pessoas=[['Pedro', 25], ['Maria', 49], ['Roberto', 19]]\n",
    "print(pessoas)\n",
    "print(pessoas[0][0])\n",
    "print(pessoas[1][1])\n",
    "print(pessoas[1])"
   ]
  },
  {
   "cell_type": "code",
   "execution_count": 13,
   "metadata": {},
   "outputs": [
    {
     "name": "stdout",
     "output_type": "stream",
     "text": [
      "[['Maria', 60], ['Maria', 60]]\n"
     ]
    }
   ],
   "source": [
    "teste = list()\n",
    "teste.append('Marcos')\n",
    "teste.append(40)\n",
    "galera = list()\n",
    "galera.append(teste)\n",
    "teste[0] = 'Maria'\n",
    "teste[1] = 60\n",
    "galera.append(teste)\n",
    "print(galera)"
   ]
  },
  {
   "cell_type": "code",
   "execution_count": 14,
   "metadata": {},
   "outputs": [
    {
     "name": "stdout",
     "output_type": "stream",
     "text": [
      "[['Marcos', 40], ['Maria', 60]]\n"
     ]
    }
   ],
   "source": [
    "teste = list()\n",
    "teste.append('Marcos')\n",
    "teste.append(40)\n",
    "galera = list()\n",
    "galera.append(teste[:]) #cópia\n",
    "teste[0] = 'Maria'\n",
    "teste[1] = 60\n",
    "galera.append(teste[:]) #cópia\n",
    "print(galera)"
   ]
  },
  {
   "cell_type": "code",
   "execution_count": 16,
   "metadata": {},
   "outputs": [
    {
     "name": "stdout",
     "output_type": "stream",
     "text": [
      "Marcos tem 15 anos\n",
      "Pedro tem 12 anos\n",
      "Ana tem 10 anos\n"
     ]
    }
   ],
   "source": [
    "galera = [['Marcos', 15], ['Pedro', 12], ['Ana', 10]]\n",
    "for p in galera:\n",
    "    print(f'{p[0]} tem {p[1]} anos.')"
   ]
  },
  {
   "cell_type": "code",
   "execution_count": 21,
   "metadata": {},
   "outputs": [
    {
     "name": "stdout",
     "output_type": "stream",
     "text": [
      "Nome: ana\n",
      "Idade: 10\n",
      "Nome: ivo\n",
      "Idade: 40\n",
      "Nome: oto\n",
      "Idade: 30\n",
      "[['ana', 10], ['ivo', 40], ['oto', 30]]\n",
      "ana é menor de idade.\n",
      "ivo é maior de idade.\n",
      "oto é maior de idade.\n",
      "Temos 2 maiores e 1 menores.\n"
     ]
    }
   ],
   "source": [
    "galera = list()\n",
    "dado = list()\n",
    "totmai = totmen = 0\n",
    "for c in range (0, 3):\n",
    "    dado.append(str(input('Nome: ')))\n",
    "    dado.append(int(input('Idade: ')))\n",
    "    galera.append(dado[:]) #importante criar uma cópia de dados, caso contrário, a lista ficará vazia. \n",
    "    dado.clear() #apaga os dados cada vez que eu faço o laço\n",
    "print(galera)\n",
    "\n",
    "\n",
    "for p in galera:\n",
    "    if p[1] >= 21:\n",
    "        print(f'{p[0]} é maior de idade.')\n",
    "        totmai += 1\n",
    "    else: \n",
    "        print(f'{p[0]} é menor de idade.')\n",
    "        totmen += 1\n",
    "print(f'Temos {totmai} maiores e {totmen} menores.')\n",
    "    "
   ]
  },
  {
   "cell_type": "code",
   "execution_count": null,
   "metadata": {},
   "outputs": [],
   "source": []
  }
 ],
 "metadata": {
  "kernelspec": {
   "display_name": "Python 3",
   "language": "python",
   "name": "python3"
  },
  "language_info": {
   "codemirror_mode": {
    "name": "ipython",
    "version": 3
   },
   "file_extension": ".py",
   "mimetype": "text/x-python",
   "name": "python",
   "nbconvert_exporter": "python",
   "pygments_lexer": "ipython3",
   "version": "3.7.3"
  }
 },
 "nbformat": 4,
 "nbformat_minor": 2
}
