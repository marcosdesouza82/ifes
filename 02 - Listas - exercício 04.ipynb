{
 "cells": [
  {
   "cell_type": "markdown",
   "metadata": {},
   "source": [
    "# Exercício 4\n",
    "Crie um programa que vai ler vários números e colocar em uma lista.\n",
    "Depois mostre:\n",
    "a)\tQuantos números foram registrados;\n",
    "b)\tA lista de valores ordenada de forma decrescente;\n",
    "c)\tSe o valor 5 foi digitado e está ou não na lista.\n"
   ]
  },
  {
   "cell_type": "code",
   "execution_count": null,
   "metadata": {},
   "outputs": [],
   "source": [
    "valores = []\n",
    "while True:\n",
    "    valores.append(int(input('Digite um valor: ')))\n",
    "    resp = str(input('Quer continhar? [S/N]'))\n",
    "    if resp in 'Nn': # Se a resposta estiver em\n",
    "        break\n",
    "print('='*30)\n",
    "valores.sort(reverse=True)\n",
    "print(f'Você digitou {len(valores)} valores')\n",
    "print(f'Os valores em ordem decrescente são {valores}')\n",
    "if 5 in valores:\n",
    "    print('O valor 5 faz parte da lista.')\n",
    "else:\n",
    "    print('O valor 5 não foi encontrado na lista.')\n"
   ]
  },
  {
   "cell_type": "code",
   "execution_count": 6,
   "metadata": {},
   "outputs": [
    {
     "name": "stdout",
     "output_type": "stream",
     "text": [
      "Digite um valor: 4\n",
      "Quer continhar? [S/N]s\n",
      "Digite um valor: 7\n",
      "Quer continhar? [S/N]n\n",
      "==============================\n",
      "Você digitou 2 valores\n",
      "Os valores em ordem decrescente são [7, 4]\n"
     ]
    }
   ],
   "source": [
    "# parte 1\n",
    "valores = []\n",
    "while True:\n",
    "    valores.append(int(input('Digite um valor: ')))\n",
    "    resp = str(input('Quer continhar? [S/N]'))\n",
    "    if resp in 'Nn': # Se a resposta estiver em\n",
    "        break\n",
    "print('='*30)\n",
    "print(f'Você digitou {len(valores)} valores')"
   ]
  },
  {
   "cell_type": "code",
   "execution_count": null,
   "metadata": {},
   "outputs": [],
   "source": [
    "# parte 2\n",
    "valores = []\n",
    "while True:\n",
    "    valores.append(int(input('Digite um valor: ')))\n",
    "    resp = str(input('Quer continhar? [S/N]'))\n",
    "    if resp in 'Nn': # Se a resposta estiver em\n",
    "        break\n",
    "print('='*30)\n",
    "valores.sort(reverse=True)\n",
    "print(f'Você digitou {len(valores)} valores')\n",
    "print(f'Os valores em ordem decrescente são {valores}')"
   ]
  },
  {
   "cell_type": "code",
   "execution_count": 9,
   "metadata": {},
   "outputs": [
    {
     "name": "stdout",
     "output_type": "stream",
     "text": [
      "Digite um valor: 5\n",
      "Quer continhar? [S/N]s\n",
      "Digite um valor: 5\n",
      "Quer continhar? [S/N]s\n",
      "Digite um valor: 6\n",
      "Quer continhar? [S/N]s\n",
      "Digite um valor: 1\n",
      "Quer continhar? [S/N]n\n",
      "==============================\n",
      "Você digitou 4 valores\n",
      "Os valores em ordem decrescente são [6, 5, 5, 1]\n",
      "O valor 5 faz parte da lista.\n"
     ]
    }
   ],
   "source": [
    "# parte 3\n",
    "valores = []\n",
    "while True:\n",
    "    valores.append(int(input('Digite um valor: ')))\n",
    "    resp = str(input('Quer continhar? [S/N]'))\n",
    "    if resp in 'Nn': # Se a resposta estiver em\n",
    "        break\n",
    "print('='*30)\n",
    "valores.sort(reverse=True)\n",
    "print(f'Você digitou {len(valores)} valores')\n",
    "print(f'Os valores em ordem decrescente são {valores}')\n",
    "if 5 in valores:\n",
    "    print('O valor 5 faz parte da lista.')\n",
    "else:\n",
    "    print('O valor 5 não foi encontrado na lista.')\n",
    "    "
   ]
  },
  {
   "cell_type": "code",
   "execution_count": null,
   "metadata": {},
   "outputs": [],
   "source": []
  }
 ],
 "metadata": {
  "kernelspec": {
   "display_name": "Python 3",
   "language": "python",
   "name": "python3"
  },
  "language_info": {
   "codemirror_mode": {
    "name": "ipython",
    "version": 3
   },
   "file_extension": ".py",
   "mimetype": "text/x-python",
   "name": "python",
   "nbconvert_exporter": "python",
   "pygments_lexer": "ipython3",
   "version": "3.7.3"
  }
 },
 "nbformat": 4,
 "nbformat_minor": 2
}
