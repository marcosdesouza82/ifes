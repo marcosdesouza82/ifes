{
 "cells": [
  {
   "cell_type": "markdown",
   "metadata": {},
   "source": [
    "# Exercício 05\n",
    "Crie um programa que leia nome, sexo e idade de várias pessoas, guardando os dados de cada pessoa em um dicionário e todos os dicionários em uma lista. No final, mostre: \n",
    "a)\tQuantas pessoas foram cadastradas;\n",
    "b)\tA média de idade do grupo;\n",
    "c)\tUma lista com todas as mulheres;\n",
    "d)\tUma lista com todas as pessoas com idade acima da média. \n"
   ]
  },
  {
   "cell_type": "code",
   "execution_count": 8,
   "metadata": {},
   "outputs": [
    {
     "name": "stdout",
     "output_type": "stream",
     "text": [
      "Informe o nome: Oto\n",
      "Informe o sexo: [M/F]m\n",
      "Informe a idade: 12\n",
      "Quer continuar? [S/N]s\n",
      "Informe o nome: ana\n",
      "Informe o sexo: [M/F]f\n",
      "Informe a idade: 40\n",
      "Quer continuar? [S/N]n\n",
      "==============================\n",
      "[{'nome': 'Oto', 'sexo': 'M', 'idade': 12}, {'nome': 'ana', 'sexo': 'F', 'idade': 40}]\n",
      "A ) Ao todo temos 2 pessoas cadastradas.\n",
      "B) A média de idade das pessoas é de 26.00 anos.\n",
      "C) As mulheres cadastradas foram: ana\n",
      "Lista das pesssoas que estao acima da média: .\n",
      "    \n",
      "nome = ana; sexo = F; idade = 40; \n"
     ]
    }
   ],
   "source": [
    "galera = list()\n",
    "pessoa = dict()\n",
    "soma = media = 0\n",
    "while True:\n",
    "    pessoa.clear()\n",
    "    pessoa['nome'] = str(input('Informe o nome: '))\n",
    "    while True:\n",
    "        pessoa['sexo'] = str(input('Informe o sexo: [M/F]')) .upper()[0]\n",
    "        if pessoa['sexo'] in 'MF':\n",
    "            break\n",
    "        print('ERRO! Informe M para sexo Masculino e F sexo para Feminino')\n",
    "    pessoa['idade'] = int(input('Informe a idade: '))\n",
    "    soma += pessoa['idade']\n",
    "    galera.append(pessoa.copy())\n",
    "    while True:\n",
    "        resp = str(input('Quer continuar? [S/N]')).upper()[0]\n",
    "        if resp in 'SN':\n",
    "            break\n",
    "        print('ERRO! Responda apenas S ou N.')\n",
    "    if resp == 'N':\n",
    "        break\n",
    "        \n",
    "print('='*30)   \n",
    "print(galera) # Imprimi uma lista de dicionários\n",
    "print(f'A ) Ao todo temos {len(galera)} pessoas cadastradas.')\n",
    "media = soma / len(galera)\n",
    "print(f'B) A média de idade das pessoas é de {media:5.2f} anos.')\n",
    "print(f'C) As mulheres cadastradas foram: ', end='')\n",
    "for p in galera:\n",
    "    if p ['sexo'] in 'Ff':\n",
    "        print(f'{p[\"nome\"]}', end='')\n",
    "print()\n",
    "print(f'Lista das pesssoas que estao acima da média: ')\n",
    "for p in galera:\n",
    "    if p['idade'] >= media:\n",
    "        print('    ')\n",
    "        for k, v in p.items():\n",
    "            print(f'{k} = {v}; ', end='')\n",
    "        print()"
   ]
  },
  {
   "cell_type": "code",
   "execution_count": 5,
   "metadata": {},
   "outputs": [
    {
     "name": "stdout",
     "output_type": "stream",
     "text": [
      "Informe o nome: Ana\n",
      "Informe o sexo: [M/F]f\n",
      "Informe a idade: 12\n",
      "{'nome': 'Ana', 'sexo': 'F', 'idade': 12}\n"
     ]
    }
   ],
   "source": [
    "# parte 1\n",
    "pessoa = dict()\n",
    "pessoa['nome'] = str(input('Informe o nome: '))\n",
    "while True:\n",
    "    pessoa['sexo'] = str(input('Informe o sexo: [M/F]')) .upper()[0]\n",
    "    if pessoa['sexo'] in 'MF':\n",
    "        break\n",
    "    print('ERRO! Informe M para sexo Masculino e F sexo para Feminino')\n",
    "pessoa['idade'] = int(input('Informe a idade: '))\n",
    "print(pessoa)"
   ]
  },
  {
   "cell_type": "code",
   "execution_count": null,
   "metadata": {},
   "outputs": [],
   "source": [
    "# parte 2 Entrada dos dados.\n",
    "galera = list()\n",
    "pessoa = dict()\n",
    "while True:\n",
    "    pessoa.clear()\n",
    "    pessoa['nome'] = str(input('Informe o nome: '))\n",
    "    while True:\n",
    "        pessoa['sexo'] = str(input('Informe o sexo: [M/F]')) .upper()[0]\n",
    "        if pessoa['sexo'] in 'MF':\n",
    "            break\n",
    "        print('ERRO! Informe M para sexo Masculino e F sexo para Feminino')\n",
    "    pessoa['idade'] = int(input('Informe a idade: '))\n",
    "    galera.append(pessoa.copy())\n",
    "    while True:\n",
    "        resp = str(input('Quer continuar? [S/N]')).upper()[0]\n",
    "        if resp in 'SN':\n",
    "            break\n",
    "        print('ERRO! Responda apenas S ou N.')\n",
    "    if resp == 'N':\n",
    "        break\n",
    "        \n",
    "print('='*30)   \n",
    "print(galera)"
   ]
  }
 ],
 "metadata": {
  "kernelspec": {
   "display_name": "Python 3",
   "language": "python",
   "name": "python3"
  },
  "language_info": {
   "codemirror_mode": {
    "name": "ipython",
    "version": 3
   },
   "file_extension": ".py",
   "mimetype": "text/x-python",
   "name": "python",
   "nbconvert_exporter": "python",
   "pygments_lexer": "ipython3",
   "version": "3.7.3"
  }
 },
 "nbformat": 4,
 "nbformat_minor": 2
}
