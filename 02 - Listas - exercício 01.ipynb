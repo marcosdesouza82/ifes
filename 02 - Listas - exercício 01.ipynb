{
 "cells": [
  {
   "cell_type": "markdown",
   "metadata": {},
   "source": [
    "# Exercício 01\n",
    "Faça um programa que leia 5 valores numéricos e guarde-os em uma lista. \n",
    "No final, mostre qual foi o maior e o menor valor digitado e as suas respectivas posições. \n"
   ]
  },
  {
   "cell_type": "code",
   "execution_count": 11,
   "metadata": {},
   "outputs": [
    {
     "name": "stdout",
     "output_type": "stream",
     "text": [
      "Digite um valor para a Posição 0: 7\n",
      "Digite um valor para a Posição 1: 7\n",
      "Digite um valor para a Posição 2: 4\n",
      "Digite um valor para a Posição 3: 3\n",
      "Digite um valor para a Posição 4: 2\n",
      "==============================\n",
      "Você digitou os valores [7, 7, 4, 3, 2]\n",
      "O maior valor digitados foi 7 nas posições \n",
      "0...1...\n",
      "O menor valor digitado foi 2 nas posições \n",
      "4...\n"
     ]
    }
   ],
   "source": [
    "listanum = []\n",
    "mai = 0\n",
    "men = 0\n",
    "for c in range (0, 5): # lembrando que o 5 será descartado\n",
    "    listanum.append(int(input(f'Digite um valor para a Posição {c}: ')))\n",
    "    if c == 0:\n",
    "        mai = men = listanum[c]\n",
    "    else: \n",
    "        if listanum[c] > mai:\n",
    "            mai = listanum[c]\n",
    "        if listanum[c] < men:\n",
    "            men = listanum[c]\n",
    "print('=' *30)\n",
    "print(f'Você digitou os valores {listanum}')\n",
    "print(f'O maior valor digitados foi {mai} nas posições ')\n",
    "for i, v in enumerate (listanum):\n",
    "    if v == mai:\n",
    "        print(f'{i}...', end ='')\n",
    "print()\n",
    "print(f'O menor valor digitado foi {men} nas posições ')\n",
    "for i, v in enumerate (listanum):\n",
    "    if v == men:\n",
    "        print(f'{i}...', end ='')\n",
    "print()\n"
   ]
  },
  {
   "cell_type": "code",
   "execution_count": 12,
   "metadata": {
    "scrolled": true
   },
   "outputs": [
    {
     "name": "stdout",
     "output_type": "stream",
     "text": [
      "Digite um valor para a Posição 0: 2\n",
      "Digite um valor para a Posição 1: 3\n",
      "Digite um valor para a Posição 2: 4\n",
      "Digite um valor para a Posição 3: 5\n",
      "Digite um valor para a Posição 4: 6\n",
      "==============================\n",
      "Você digitou os valores [2, 3, 4, 5, 6]\n"
     ]
    }
   ],
   "source": [
    "# Parte 1\n",
    "listanum = []\n",
    "for c in range (0, 5): # lembrando que o 5 será descartado\n",
    "    listanum.append(int(input(f'Digite um valor para a Posição {c}: ')))\n",
    "print('=' *30)\n",
    "print(f'Você digitou os valores {listanum}')\n"
   ]
  },
  {
   "cell_type": "code",
   "execution_count": 13,
   "metadata": {},
   "outputs": [
    {
     "name": "stdout",
     "output_type": "stream",
     "text": [
      "Digite um valor para a Posição 0: 2\n",
      "Digite um valor para a Posição 1: 2\n",
      "Digite um valor para a Posição 2: 3\n",
      "Digite um valor para a Posição 3: 8\n",
      "Digite um valor para a Posição 4: 8\n",
      "==============================\n",
      "Você digitou os valores [2, 2, 3, 8, 8]\n",
      "O maior valor digitados foi 8  \n",
      "O menor valor digitado foi 2  \n"
     ]
    }
   ],
   "source": [
    "# Parte 2 # Identificar os maiores e menores valores digitados\n",
    "listanum = []\n",
    "mai = 0\n",
    "men = 0\n",
    "for c in range (0, 5): # lembrando que o 5 será descartado\n",
    "    listanum.append(int(input(f'Digite um valor para a Posição {c}: ')))\n",
    "    if c == 0:\n",
    "        mai = men = listanum[c]\n",
    "    else: \n",
    "        if listanum[c] > mai:\n",
    "            mai = listanum[c]\n",
    "        if listanum[c] < men:\n",
    "            men = listanum[c]\n",
    "print('=' *30)\n",
    "print(f'Você digitou os valores {listanum}')\n",
    "print(f'O maior valor digitados foi {mai}  ')\n",
    "print(f'O menor valor digitado foi {men}  ')"
   ]
  },
  {
   "cell_type": "code",
   "execution_count": 14,
   "metadata": {},
   "outputs": [
    {
     "name": "stdout",
     "output_type": "stream",
     "text": [
      "Digite um valor para a Posição 0: 2\n",
      "Digite um valor para a Posição 1: 2\n",
      "Digite um valor para a Posição 2: 9\n",
      "Digite um valor para a Posição 3: 9\n",
      "Digite um valor para a Posição 4: 4\n",
      "==============================\n",
      "Você digitou os valores [2, 2, 9, 9, 4]\n",
      "O maior valor digitados foi 9 nas posições \n",
      "2...3...\n",
      "O menor valor digitado foi 2 nas posições \n",
      "0...1...\n"
     ]
    }
   ],
   "source": [
    "# Parte 3 # Verrar a lista para descobrir a posição usando enumerate (aulas anteriores)\n",
    "listanum = []\n",
    "mai = 0\n",
    "men = 0\n",
    "for c in range (0, 5): # lembrando que o 5 será descartado\n",
    "    listanum.append(int(input(f'Digite um valor para a Posição {c}: ')))\n",
    "    if c == 0:\n",
    "        mai = men = listanum[c]\n",
    "    else: \n",
    "        if listanum[c] > mai:\n",
    "            mai = listanum[c]\n",
    "        if listanum[c] < men:\n",
    "            men = listanum[c]\n",
    "print('=' *30)\n",
    "print(f'Você digitou os valores {listanum}')\n",
    "print(f'O maior valor digitados foi {mai} nas posições ')\n",
    "for i, v in enumerate (listanum):\n",
    "    if v == mai:\n",
    "        print(f'{i}...', end ='')\n",
    "print()\n",
    "print(f'O menor valor digitado foi {men} nas posições ')\n",
    "for i, v in enumerate (listanum):\n",
    "    if v == men:\n",
    "        print(f'{i}...', end ='')\n",
    "print()"
   ]
  },
  {
   "cell_type": "code",
   "execution_count": null,
   "metadata": {},
   "outputs": [],
   "source": []
  }
 ],
 "metadata": {
  "kernelspec": {
   "display_name": "Python 3",
   "language": "python",
   "name": "python3"
  },
  "language_info": {
   "codemirror_mode": {
    "name": "ipython",
    "version": 3
   },
   "file_extension": ".py",
   "mimetype": "text/x-python",
   "name": "python",
   "nbconvert_exporter": "python",
   "pygments_lexer": "ipython3",
   "version": "3.7.3"
  }
 },
 "nbformat": 4,
 "nbformat_minor": 2
}
