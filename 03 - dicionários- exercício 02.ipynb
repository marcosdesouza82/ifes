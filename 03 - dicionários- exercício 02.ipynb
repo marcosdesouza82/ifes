{
 "cells": [
  {
   "cell_type": "markdown",
   "metadata": {},
   "source": [
    "# Exercício 02\n",
    "Crie um programa onde 4 jogadores joguem um dado e tenham resultados aleatórios. Guarde os resultados em um dicionário. No final, coloque esse dicionário em ordem, sabendo que o vencedor tirou o maior número no dado.\n"
   ]
  },
  {
   "cell_type": "code",
   "execution_count": 11,
   "metadata": {},
   "outputs": [
    {
     "name": "stdout",
     "output_type": "stream",
     "text": [
      "Velores sorteados: \n",
      "Jogador 1 tirou o 3 no dado.\n",
      "Jogador 2 tirou o 5 no dado.\n",
      "Jogador 3 tirou o 1 no dado.\n",
      "Jogador 4 tirou o 4 no dado.\n",
      "==============================\n",
      "RANKINGO DOS JOGADORES\n",
      "[('Jogador 2', 5), ('Jogador 4', 4), ('Jogador 1', 3), ('Jogador 3', 1)]\n",
      "1º lugar Jogador 2 com 5\n",
      "2º lugar Jogador 4 com 4\n",
      "3º lugar Jogador 1 com 3\n",
      "4º lugar Jogador 3 com 1\n"
     ]
    }
   ],
   "source": [
    "from random import randint\n",
    "from time import sleep\n",
    "from operator import itemgetter\n",
    "jogo = {'Jogador 1': randint (1,6),\n",
    "        'Jogador 2': randint (1,6),\n",
    "        'Jogador 3': randint (1,6),\n",
    "        'Jogador 4': randint (1,6)}\n",
    "ranking = list()\n",
    "print('Velores sorteados: ')\n",
    "for k, v in jogo.items():\n",
    "    print(f'{k} tirou o {v} no dado.')\n",
    "    sleep(1)\n",
    "ranking = sorted(jogo.items(), key=itemgetter(1), reverse=True)\n",
    "print('='*30)\n",
    "print('RANKINGO DOS JOGADORES')\n",
    "print(ranking) # Vai imprimir uma lista com várias Tuplas.\n",
    "for i, v in enumerate (ranking):\n",
    "    print(f'{i+1}º lugar {v[0]} com {v[1]}')"
   ]
  },
  {
   "cell_type": "code",
   "execution_count": null,
   "metadata": {},
   "outputs": [],
   "source": [
    "# parte 1\n",
    "from random import randint\n",
    "jogo = {'Jogador 1': randint (1,6),\n",
    "        'Jogador 2': randint (1,6),\n",
    "        'Jogador 3': randint (1,6),\n",
    "        'Jogador 4': randint (1,6)}\n",
    "print(jogo)"
   ]
  },
  {
   "cell_type": "code",
   "execution_count": null,
   "metadata": {},
   "outputs": [],
   "source": [
    "# parte 2\n",
    "from random import randint\n",
    "from time import sleep\n",
    "jogo = {'Jogador 1': randint (1,6),\n",
    "        'Jogador 2': randint (1,6),\n",
    "        'Jogador 3': randint (1,6),\n",
    "        'Jogador 4': randint (1,6)}\n",
    "print('Velores sorteados: ')\n",
    "for k, v in jogo.items():\n",
    "    print(f'{k} tirou o {v} no dado.')\n",
    "    sleep(1)"
   ]
  },
  {
   "cell_type": "code",
   "execution_count": null,
   "metadata": {},
   "outputs": [],
   "source": []
  }
 ],
 "metadata": {
  "kernelspec": {
   "display_name": "Python 3",
   "language": "python",
   "name": "python3"
  },
  "language_info": {
   "codemirror_mode": {
    "name": "ipython",
    "version": 3
   },
   "file_extension": ".py",
   "mimetype": "text/x-python",
   "name": "python",
   "nbconvert_exporter": "python",
   "pygments_lexer": "ipython3",
   "version": "3.7.3"
  }
 },
 "nbformat": 4,
 "nbformat_minor": 2
}
