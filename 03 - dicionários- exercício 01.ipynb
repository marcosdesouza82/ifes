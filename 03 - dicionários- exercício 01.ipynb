{
 "cells": [
  {
   "cell_type": "markdown",
   "metadata": {},
   "source": [
    "# Exercício 01\n",
    "Faça um programa que leia nome e média de um aluno, guardando também a situação em cada dicionário. No final, mostre o conteúdo da estrutura na tela.\n"
   ]
  },
  {
   "cell_type": "code",
   "execution_count": 6,
   "metadata": {},
   "outputs": [
    {
     "name": "stdout",
     "output_type": "stream",
     "text": [
      "Nome: Marcos\n",
      "Média de Marcos4\n",
      "nome é igual a Marcos\n",
      "media é igual a 4.0\n",
      "situação é igual a Reprovado\n"
     ]
    }
   ],
   "source": [
    "aluno = dict()\n",
    "aluno['nome'] = str(input('Nome: '))\n",
    "aluno['media'] = float(input(f'Média de {aluno[\"nome\"]}')) # ao usar aspas simples por fora, tem que usar aspas duplas no interior\n",
    "if aluno['media'] >= 7:\n",
    "    aluno['situação'] = 'Aprovado'\n",
    "elif 5 <= aluno['media'] < 7:\n",
    "    aluno['situação'] = 'Recuperação'\n",
    "else: \n",
    "    aluno['situação'] = 'Reprovado'                                                           \n",
    "print('=' * 30)\n",
    "for k, v in aluno.items():\n",
    "    print(f'{k} é igual a {v}')\n",
    "                             "
   ]
  },
  {
   "cell_type": "code",
   "execution_count": null,
   "metadata": {},
   "outputs": [],
   "source": [
    "# parte 1\n",
    "aluno = dict()\n",
    "aluno['nome'] = str(input('Nome: '))\n",
    "aluno['media'] = float(input(f'Média de {aluno[\"nome\"]}')) # ao usar aspas simples por fora, tem que usar aspas duplas no interior\n",
    "if aluno['media'] >= 7:\n",
    "    aluno['situação'] = 'Aprovado'\n",
    "elif 5 <= aluno['media'] < 7:\n",
    "    aluno['situação'] = 'Recuperação'\n",
    "else: \n",
    "    aluno['situação'] = 'Reprovado'                                                           \n",
    "print(aluno)"
   ]
  },
  {
   "cell_type": "code",
   "execution_count": null,
   "metadata": {},
   "outputs": [],
   "source": [
    "# parte 2"
   ]
  }
 ],
 "metadata": {
  "kernelspec": {
   "display_name": "Python 3",
   "language": "python",
   "name": "python3"
  },
  "language_info": {
   "codemirror_mode": {
    "name": "ipython",
    "version": 3
   },
   "file_extension": ".py",
   "mimetype": "text/x-python",
   "name": "python",
   "nbconvert_exporter": "python",
   "pygments_lexer": "ipython3",
   "version": "3.7.3"
  }
 },
 "nbformat": 4,
 "nbformat_minor": 2
}
