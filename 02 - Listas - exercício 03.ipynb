{
 "cells": [
  {
   "cell_type": "markdown",
   "metadata": {},
   "source": [
    "# Exercício 03\n",
    "Crie um programa onde o usuário possa digitar cinco valores numéricos e cadastr0os em uma lista, já na posição correta de inserção (sem usar o sort()).\n",
    "No final, mostra a lista ordenada na tela. \n"
   ]
  },
  {
   "cell_type": "code",
   "execution_count": 6,
   "metadata": {},
   "outputs": [
    {
     "name": "stdout",
     "output_type": "stream",
     "text": [
      "Digite um valor: 3\n",
      "Adicionado ao final da lista.\n",
      "Digite um valor: 2\n",
      "Adicionado na posição 0 da lista.\n",
      "Digite um valor: 1\n",
      "Adicionado na posição 0 da lista.\n",
      "Digite um valor: 6\n",
      "Adicionado ao final da lista.\n",
      "Digite um valor: 5\n",
      "Adicionado na posição 3 da lista.\n",
      "==============================\n",
      "Os valores digitados em ordem foram [1, 2, 3, 5, 6]\n"
     ]
    }
   ],
   "source": [
    "lista = []\n",
    "for c in range (0, 5):\n",
    "    n = int(input('Digite um valor: '))\n",
    "    if c == 0 or n > lista[-1]: # maior que o último valor da lista\n",
    "        lista.append(n)\n",
    "        print(f'Adicionado ao final da lista.')\n",
    "    else:\n",
    "        pos = 0\n",
    "        while pos < len(lista):\n",
    "            if n <= lista[pos]:          # vai verificar dentro de cada posição se \n",
    "                lista.insert(pos, n)     # o número que pretende inserir é menor ou igual a ele\n",
    "                print(f'Adicionado na posição {pos} da lista.')\n",
    "                break\n",
    "            pos +=1 # para ir passando a posição\n",
    "print('=' * 30)\n",
    "print(f'Os valores digitados em ordem foram {lista}')\n",
    "   \n"
   ]
  },
  {
   "cell_type": "code",
   "execution_count": null,
   "metadata": {},
   "outputs": [],
   "source": []
  }
 ],
 "metadata": {
  "kernelspec": {
   "display_name": "Python 3",
   "language": "python",
   "name": "python3"
  },
  "language_info": {
   "codemirror_mode": {
    "name": "ipython",
    "version": 3
   },
   "file_extension": ".py",
   "mimetype": "text/x-python",
   "name": "python",
   "nbconvert_exporter": "python",
   "pygments_lexer": "ipython3",
   "version": "3.7.3"
  }
 },
 "nbformat": 4,
 "nbformat_minor": 2
}
