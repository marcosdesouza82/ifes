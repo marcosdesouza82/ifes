{
 "cells": [
  {
   "cell_type": "markdown",
   "metadata": {},
   "source": [
    "# Exercício 03\n",
    "Crie um programa que leia nome, ano de nascimento e a carteira de trabalho de uma pessoa. Cadastre-os (com idade) em um dicionário se por acaso o CTPS for diferente de zero. O dicionário receberá também o ano de construção e o salário. Calcule e acrescente, além da idade, com quantos anos a pessoa vai se aposentar. \n"
   ]
  },
  {
   "cell_type": "code",
   "execution_count": 10,
   "metadata": {},
   "outputs": [],
   "source": [
    "from datetime import datetime"
   ]
  },
  {
   "cell_type": "code",
   "execution_count": 20,
   "metadata": {},
   "outputs": [
    {
     "name": "stdout",
     "output_type": "stream",
     "text": [
      "Nome: MArcos\n",
      "Ano de nascimento: 1982\n",
      "Carteira de trabalho (0 não tem): 124\n",
      "Ano de contratação: 2000\n",
      "Valor do salário: R$ 100\n",
      "==============================\n",
      "{'nome': 'MArcos', 'idade': 40, 'ctps': 124, 'contratação': 2000, 'salário': 100.0, 'aposentadoria': 53}\n",
      "  =nome tem o valor MArcos\n",
      "  =idade tem o valor 40\n",
      "  =ctps tem o valor 124\n",
      "  =contratação tem o valor 2000\n",
      "  =salário tem o valor 100.0\n",
      "  =aposentadoria tem o valor 53\n"
     ]
    }
   ],
   "source": [
    "dados = dict()\n",
    "dados['nome'] = str(input('Nome: '))\n",
    "nasc = int(input('Ano de nascimento: '))\n",
    "dados['idade'] = datetime.now().year - nasc\n",
    "dados['ctps'] = int(input('Carteira de trabalho (0 não tem): '))\n",
    "if dados['ctps'] != 0: # se dados for diferente de 0\n",
    "    dados['contratação'] = int(input('Ano de contratação: '))\n",
    "    dados['salário'] = float(input('Valor do salário: R$ '))\n",
    "    dados['aposentadoria'] = (dados['contratação'] - nasc) + 35\n",
    "print('='*30)\n",
    "print(dados)\n",
    "for k, v in dados.items():\n",
    "    print(f' -{k} tem o valor {v}')"
   ]
  },
  {
   "cell_type": "code",
   "execution_count": null,
   "metadata": {},
   "outputs": [],
   "source": [
    "# parte 1\n",
    "from datetime import datetime\n",
    "dados = dict()\n",
    "dados['nome'] = str(input('Nome: '))\n",
    "nasc = int(input('Ano de nascimento: '))\n",
    "dados['idade'] = datetime.now().year - nasc\n",
    "dados['ctps'] = int(input('Carteira de trabalho (o não tem): '))\n",
    "print(dados)"
   ]
  },
  {
   "cell_type": "code",
   "execution_count": null,
   "metadata": {},
   "outputs": [],
   "source": [
    "# parte 2\n",
    "dados = dict()\n",
    "dados['nome'] = str(input('Nome: '))\n",
    "nasc = int(input('Ano de nascimento: '))\n",
    "dados['idade'] = datetime.now().year - nasc\n",
    "dados['ctps'] = int(input('Carteira de trabalho (0 não tem): '))\n",
    "if dados['ctps'] != 0: # se dados for diferente de 0\n",
    "    dados['contratação'] = int(input('Ano de contratação: '))\n",
    "    dados['salário'] = float(input('Valor do salário: R$ '))\n",
    "    dados['aposentadoria'] = (dados['contratação'] - nasc) + 35\n",
    "print('='*30)\n",
    "print(dados)"
   ]
  }
 ],
 "metadata": {
  "kernelspec": {
   "display_name": "Python 3",
   "language": "python",
   "name": "python3"
  },
  "language_info": {
   "codemirror_mode": {
    "name": "ipython",
    "version": 3
   },
   "file_extension": ".py",
   "mimetype": "text/x-python",
   "name": "python",
   "nbconvert_exporter": "python",
   "pygments_lexer": "ipython3",
   "version": "3.7.3"
  }
 },
 "nbformat": 4,
 "nbformat_minor": 2
}
