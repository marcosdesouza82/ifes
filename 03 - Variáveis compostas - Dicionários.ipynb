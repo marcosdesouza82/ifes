{
 "cells": [
  {
   "cell_type": "markdown",
   "metadata": {},
   "source": [
    "# Tuplas\n",
    "Tupla é uma estrutura de dados semelhante a lista. Porém, ela tem a característica de ser imutável, ou seja, após uma tupla ser criada, ela não pode ser alterada.\n",
    "\n",
    "times_rj = ('Botafogo', 'Flamengo', 'Fluminense', 'Vasco')\n",
    "\n",
    "# Listas\n",
    "Lista é uma coleção de valores indexada, em que cada valor é identificado por um índice. O primeiro item na lista está no índice 0, o segundo no índice 1 e assim por diante.\n",
    "\n",
    "Para criar uma lista com elementos deve-se usar colchetes e adicionar os itens entre eles separados por vírgula, como mostra o Código 1.\n",
    "\n",
    "programadores = ['Victor', 'Juliana', 'Samuel', 'Caio', 'Luana']\n",
    "\n",
    "# Dicionário\n",
    "Os dicionários representam coleções de dados que contém na sua estrutura um conjunto de pares chave/valor, nos quais cada chave individual tem um valor associado. \n",
    "\n",
    "A chave faz o papel do indece das listas. \n",
    "\n",
    "Esse objeto representa a ideia de um mapa, que entendemos como uma coleção associativa desordenada. A associação nos dicionários é feita por meio de uma chave que faz referência a um valor.\n",
    "\n",
    "É possível ter índices literais. Personalizar os índices.\n",
    "\n",
    "dados_cliente = { 'Nome': 'Renan', 'Endereco': 'Rua Cruzeiro do Sul', 'Telefone': '982503645' }\n",
    "\n",
    "Dicionários é um assunto bastante importante e delicado. É importante ter muita atenção. Pode ser utlizado por exemplo em traca de informações entre servidores / API / sstemas e banco de dados. "
   ]
  },
  {
   "cell_type": "raw",
   "metadata": {},
   "source": [
    "dados = dict()\n",
    "ou \n",
    "dados = {           }"
   ]
  },
  {
   "cell_type": "code",
   "execution_count": 23,
   "metadata": {},
   "outputs": [
    {
     "name": "stdout",
     "output_type": "stream",
     "text": [
      "{'Nome': 'Pedro', 'Idade': 25, 'Peso': 84.6}\n",
      "Pedro\n",
      "25\n",
      "84.6\n"
     ]
    }
   ],
   "source": [
    "dados = {'Nome':'Pedro', 'Idade':25, 'Peso': 84.6} # os índices agora possuem rótulos. \n",
    "print(dados)                         #Ao invés de ser índice 0 agora é indice Nome\n",
    "print(dados['Nome'])\n",
    "print(dados['Idade'])\n",
    "print(dados['Peso'])"
   ]
  },
  {
   "cell_type": "markdown",
   "metadata": {},
   "source": [
    "# Adicionar elemento\n",
    "O comando append não funciona. Basta criar um novo elemento."
   ]
  },
  {
   "cell_type": "code",
   "execution_count": 24,
   "metadata": {},
   "outputs": [
    {
     "name": "stdout",
     "output_type": "stream",
     "text": [
      "{'Nome': 'Pedro', 'Idade': 25, 'Peso': 84.6, 'Sexo': 'M'}\n"
     ]
    }
   ],
   "source": [
    "dados['Sexo'] = 'M'\n",
    "print(dados)"
   ]
  },
  {
   "cell_type": "code",
   "execution_count": 25,
   "metadata": {},
   "outputs": [
    {
     "name": "stdout",
     "output_type": "stream",
     "text": [
      "{'Nome': 'Pedro', 'Idade': 25, 'Peso': 84.6, 'Sexo': 'M', 'Altura': 1.84}\n"
     ]
    }
   ],
   "source": [
    "dados['Altura'] = 1.84\n",
    "print(dados)"
   ]
  },
  {
   "cell_type": "markdown",
   "metadata": {},
   "source": [
    "# Remover elementos"
   ]
  },
  {
   "cell_type": "code",
   "execution_count": 27,
   "metadata": {},
   "outputs": [
    {
     "name": "stdout",
     "output_type": "stream",
     "text": [
      "{'Nome': 'Pedro', 'Peso': 84.6, 'Sexo': 'M', 'Altura': 1.84}\n"
     ]
    }
   ],
   "source": [
    "del dados['Idade']\n",
    "print(dados)"
   ]
  },
  {
   "cell_type": "code",
   "execution_count": 32,
   "metadata": {},
   "outputs": [
    {
     "name": "stdout",
     "output_type": "stream",
     "text": [
      "{'Nome': 'Pedro', 'Peso': 84.6, 'Altura': 1.84}\n"
     ]
    }
   ],
   "source": [
    "dados.pop('Sexo')\n",
    "print(dados)"
   ]
  },
  {
   "cell_type": "markdown",
   "metadata": {},
   "source": [
    "# Continuando..."
   ]
  },
  {
   "cell_type": "code",
   "execution_count": 29,
   "metadata": {},
   "outputs": [
    {
     "name": "stdout",
     "output_type": "stream",
     "text": [
      "{'Título': 'Star Wars', 'Ano': 1977, 'Diretor': 'George Lucas'}\n",
      "dict_values(['Star Wars', 1977, 'George Lucas'])\n",
      "dict_keys(['Título', 'Ano', 'Diretor'])\n",
      "dict_items([('Título', 'Star Wars'), ('Ano', 1977), ('Diretor', 'George Lucas')])\n",
      "O filme Star Wars do diretor George Lucas foi lançado no ano 1977.\n"
     ]
    }
   ],
   "source": [
    "filme = {'Título':'Star Wars',   # os elementos são chamados de chaves ou keys\n",
    "         'Ano': 1977,            # Há qualquer momentos você pode acessar ítens, chaves ou os valores.\n",
    "         'Diretor':'George Lucas'\n",
    "        }\n",
    "print(filme)\n",
    "print(filme.values())\n",
    "print(filme.keys())\n",
    "print(filme.items())\n",
    "print(f'O filme {filme[\"Título\"]} do diretor {filme[\"Diretor\"]} foi lançado no ano {filme[\"Ano\"]}.')"
   ]
  },
  {
   "cell_type": "code",
   "execution_count": 22,
   "metadata": {},
   "outputs": [
    {
     "name": "stdout",
     "output_type": "stream",
     "text": [
      "O Título é Star Wars\n",
      "O Ano é 1977\n",
      "O Diretor é George Lucas\n"
     ]
    }
   ],
   "source": [
    "for k,v in filme.items():\n",
    "    print(f'O {k} é {v}') #chegando ao final, encerra o laço e a estrutura de repetição. \n",
    "                            #no dicionário usa-se items ao invés de enumerate usado nas Tuplas e nas Listas."
   ]
  },
  {
   "cell_type": "markdown",
   "metadata": {},
   "source": [
    "# Modificar valores dos dicionários"
   ]
  },
  {
   "cell_type": "code",
   "execution_count": 37,
   "metadata": {},
   "outputs": [
    {
     "name": "stdout",
     "output_type": "stream",
     "text": [
      "{'Nome': 'Marcos', 'Idade': 40, 'Sexo': 'M'}\n"
     ]
    }
   ],
   "source": [
    "pessoas = {'Nome':'Marcos', 'Idade': 40, 'Sexo': 'M'}\n",
    "print(pessoas)"
   ]
  },
  {
   "cell_type": "code",
   "execution_count": 38,
   "metadata": {},
   "outputs": [
    {
     "name": "stdout",
     "output_type": "stream",
     "text": [
      "{'Nome': 'Leandro', 'Idade': 40, 'Sexo': 'M'}\n"
     ]
    }
   ],
   "source": [
    "pessoas ['Nome'] = 'Leandro'\n",
    "print(pessoas)"
   ]
  },
  {
   "cell_type": "markdown",
   "metadata": {},
   "source": [
    "# Adicionar um elemento"
   ]
  },
  {
   "cell_type": "code",
   "execution_count": 39,
   "metadata": {},
   "outputs": [
    {
     "name": "stdout",
     "output_type": "stream",
     "text": [
      "{'Nome': 'Leandro', 'Idade': 40, 'Sexo': 'M', 'Peso': 86.5}\n"
     ]
    }
   ],
   "source": [
    "pessoas['Peso'] = 86.5 # Não precisar urar o append\n",
    "print(pessoas)"
   ]
  },
  {
   "cell_type": "markdown",
   "metadata": {},
   "source": [
    "# Criar um dicionário dentro de uma lista"
   ]
  },
  {
   "cell_type": "code",
   "execution_count": 43,
   "metadata": {},
   "outputs": [
    {
     "name": "stdout",
     "output_type": "stream",
     "text": [
      "[{'uf': 'Rio de Janeiro', 'sigla': 'RJ'}, {'uf': 'Espírito Santo', 'sigla': 'ES'}]\n",
      "{'uf': 'Rio de Janeiro', 'sigla': 'RJ'}\n",
      "Rio de Janeiro\n",
      "Espírito Santo\n",
      "RJ\n",
      "ES\n"
     ]
    }
   ],
   "source": [
    "brasil = list()\n",
    "estado1 = {'uf':'Rio de Janeiro', 'sigla':'RJ'}\n",
    "estado2 = {'uf':'Espírito Santo', 'sigla': 'ES'}\n",
    "brasil.append(estado1)\n",
    "brasil.append(estado2)\n",
    "print(brasil) #lista com dicionários\n",
    "print(brasil[0]) \n",
    "print(brasil[0]['uf'])\n",
    "print(brasil[1]['uf'])\n",
    "print(brasil[0]['sigla'])\n",
    "print(brasil[1]['sigla'])"
   ]
  },
  {
   "cell_type": "code",
   "execution_count": 44,
   "metadata": {},
   "outputs": [
    {
     "name": "stdout",
     "output_type": "stream",
     "text": [
      "Unidade Federativa: Minas Gerais\n",
      "Sigla do estado: MG\n",
      "Unidade Federativa: Rio de Janeiro\n",
      "Sigla do estado: RJ\n",
      "Unidade Federativa: Acre\n",
      "Sigla do estado: AC\n",
      "[{'uf': 'Minas Gerais', 'sigla': 'MG'}, {'uf': 'Rio de Janeiro', 'sigla': 'RJ'}, {'uf': 'Acre', 'sigla': 'AC'}]\n"
     ]
    }
   ],
   "source": [
    "estado = dict()\n",
    "brasil = list()\n",
    "for c in range (0, 3):\n",
    "    estado['uf'] = str(input('Unidade Federativa: '))\n",
    "    estado['sigla'] = str(input('Sigla do estado: '))\n",
    "    brasil.append (estado.copy()) # o resultado será uma lista de dicionários.\n",
    "print(brasil)"
   ]
  },
  {
   "cell_type": "code",
   "execution_count": null,
   "metadata": {},
   "outputs": [],
   "source": []
  }
 ],
 "metadata": {
  "kernelspec": {
   "display_name": "Python 3",
   "language": "python",
   "name": "python3"
  },
  "language_info": {
   "codemirror_mode": {
    "name": "ipython",
    "version": 3
   },
   "file_extension": ".py",
   "mimetype": "text/x-python",
   "name": "python",
   "nbconvert_exporter": "python",
   "pygments_lexer": "ipython3",
   "version": "3.7.3"
  }
 },
 "nbformat": 4,
 "nbformat_minor": 2
}
