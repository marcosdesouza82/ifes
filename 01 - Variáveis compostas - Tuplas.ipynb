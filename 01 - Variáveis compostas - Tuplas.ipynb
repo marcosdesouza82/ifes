{
 "cells": [
  {
   "cell_type": "markdown",
   "metadata": {},
   "source": [
    "# Tuplas\n",
    "Tupla é uma estrutura de dados semelhante a lista. Porém, ela tem a característica de ser imutável, ou seja, após uma tupla ser criada, ela não pode ser alterada.\n",
    "\n",
    "times_rj = ('Botafogo', 'Flamengo', 'Fluminense', 'Vasco')\n",
    "\n",
    "# Listas\n",
    "Lista é uma coleção de valores indexada, em que cada valor é identificado por um índice. O primeiro item na lista está no índice 0, o segundo no índice 1 e assim por diante.\n",
    "\n",
    "Para criar uma lista com elementos deve-se usar colchetes e adicionar os itens entre eles separados por vírgula, como mostra o Código 1.\n",
    "\n",
    "programadores = ['Victor', 'Juliana', 'Samuel', 'Caio', 'Luana']\n",
    "\n",
    "# Dicionário\n",
    "Os dicionários representam coleções de dados que contém na sua estrutura um conjunto de pares chave/valor, nos quais cada chave individual tem um valor associado. Esse objeto representa a ideia de um mapa, que entendemos como uma coleção associativa desordenada. A associação nos dicionários é feita por meio de uma chave que faz referência a um valor.\n",
    "\n",
    "dados_cliente = { 'Nome': 'Renan', 'Endereco': 'Rua Cruzeiro do Sul', 'Telefone': '982503645' }"
   ]
  },
  {
   "cell_type": "markdown",
   "metadata": {},
   "source": [
    "# Tuplas\n",
    "Tupla é uma estrutura de dados semelhante a lista. Porém, ela tem a característica de ser imutável, ou seja, após uma tupla ser criada, ela não pode ser alterada.\n",
    "\n",
    "Variável simples\n",
    "campeonato = ('Carioca)'\n",
    "\n",
    "Variável composta\n",
    "times_rj = ('Botafogo', 'Flamengo', 'Fluminense', 'Vasco')\n",
    "\n",
    "Índice: 0,1,2,3"
   ]
  },
  {
   "cell_type": "code",
   "execution_count": 3,
   "metadata": {},
   "outputs": [
    {
     "name": "stdout",
     "output_type": "stream",
     "text": [
      "('Botafogo', 'Flamengo', 'Fluminense', 'Vasco', 'America')\n",
      "Fluminense\n",
      "('Botafogo', 'Flamengo')\n",
      "('Botafogo', 'Flamengo', 'Fluminense')\n",
      "('Flamengo', 'Fluminense', 'Vasco', 'America')\n",
      "America\n"
     ]
    }
   ],
   "source": [
    "times_rj = ('Botafogo', 'Flamengo', 'Fluminense', 'Vasco', 'America')\n",
    "print(times_rj)\n",
    "print(times_rj[2])\n",
    "print(times_rj[0:2])\n",
    "print(times_rj[:3])\n",
    "print(times_rj[1:])\n",
    "print(times_rj[-1])\n"
   ]
  },
  {
   "cell_type": "code",
   "execution_count": 5,
   "metadata": {},
   "outputs": [
    {
     "name": "stdout",
     "output_type": "stream",
     "text": [
      "5\n",
      "<class 'tuple'>\n",
      "Botafogo\n"
     ]
    }
   ],
   "source": [
    "print(len(times_rj))\n",
    "print(type(times_rj))\n",
    "print(times_rj[0])"
   ]
  },
  {
   "cell_type": "markdown",
   "metadata": {},
   "source": [
    "## Trocar valor da variável\n",
    "Um time caiu para a série B do campeonato Carioca. Quero trocar Vasco pelo Volta Redonda. Como Faço?\n",
    "\n",
    "Não é possível fazer porque Tuplas são imutáveis! "
   ]
  },
  {
   "cell_type": "code",
   "execution_count": 13,
   "metadata": {},
   "outputs": [
    {
     "ename": "TypeError",
     "evalue": "'tuple' object does not support item assignment",
     "output_type": "error",
     "traceback": [
      "\u001b[1;31m---------------------------------------------------------------------------\u001b[0m",
      "\u001b[1;31mTypeError\u001b[0m                                 Traceback (most recent call last)",
      "\u001b[1;32m<ipython-input-13-843d074c28f0>\u001b[0m in \u001b[0;36m<module>\u001b[1;34m\u001b[0m\n\u001b[1;32m----> 1\u001b[1;33m \u001b[0mtimes_rj\u001b[0m\u001b[1;33m[\u001b[0m\u001b[1;36m3\u001b[0m\u001b[1;33m]\u001b[0m \u001b[1;33m=\u001b[0m \u001b[1;34m'Volta Redonda'\u001b[0m\u001b[1;33m\u001b[0m\u001b[1;33m\u001b[0m\u001b[0m\n\u001b[0m",
      "\u001b[1;31mTypeError\u001b[0m: 'tuple' object does not support item assignment"
     ]
    }
   ],
   "source": [
    "times_rj[3] = 'Volta Redonda'"
   ]
  },
  {
   "cell_type": "markdown",
   "metadata": {},
   "source": [
    "for usando a variável composta"
   ]
  },
  {
   "cell_type": "code",
   "execution_count": 18,
   "metadata": {},
   "outputs": [
    {
     "name": "stdout",
     "output_type": "stream",
     "text": [
      "O meu time do Campeonato Carioca é: Botafogo\n",
      "O meu time do Campeonato Carioca é: Flamengo\n",
      "O meu time do Campeonato Carioca é: Fluminense\n",
      "O meu time do Campeonato Carioca é: Vasco\n"
     ]
    }
   ],
   "source": [
    "for times in times_rj:\n",
    "    print(f'O meu time do Campeonato Carioca é: {times}')"
   ]
  },
  {
   "cell_type": "code",
   "execution_count": 20,
   "metadata": {},
   "outputs": [
    {
     "name": "stdout",
     "output_type": "stream",
     "text": [
      "4\n"
     ]
    }
   ],
   "source": [
    "print(len(times_rj))"
   ]
  },
  {
   "cell_type": "markdown",
   "metadata": {},
   "source": [
    "for usando o range"
   ]
  },
  {
   "cell_type": "code",
   "execution_count": 25,
   "metadata": {},
   "outputs": [
    {
     "name": "stdout",
     "output_type": "stream",
     "text": [
      "0\n",
      "1\n",
      "2\n",
      "3\n"
     ]
    }
   ],
   "source": [
    "for cont in range (0, len(times_rj)):\n",
    "    print(cont)"
   ]
  },
  {
   "cell_type": "code",
   "execution_count": 30,
   "metadata": {},
   "outputs": [
    {
     "name": "stdout",
     "output_type": "stream",
     "text": [
      "Times do Campeonato Carioca: Botafogo na posição 0\n",
      "Times do Campeonato Carioca: Flamengo na posição 1\n",
      "Times do Campeonato Carioca: Fluminense na posição 2\n",
      "Times do Campeonato Carioca: Vasco na posição 3\n"
     ]
    }
   ],
   "source": [
    "for cont in range (0, len(times_rj)):\n",
    "    print(f'Times do Campeonato Carioca: {times_rj[cont]} na posição {cont}')"
   ]
  },
  {
   "cell_type": "markdown",
   "metadata": {},
   "source": [
    "Imprimir em ordem alfabética. "
   ]
  },
  {
   "cell_type": "code",
   "execution_count": 37,
   "metadata": {},
   "outputs": [
    {
     "name": "stdout",
     "output_type": "stream",
     "text": [
      "['America', 'Botafogo', 'Flamengo', 'Fluminense', 'Vasco']\n",
      "('Botafogo', 'Flamengo', 'Fluminense', 'Vasco', 'America')\n"
     ]
    }
   ],
   "source": [
    "print(sorted(times_rj))\n",
    "print(times_rj)"
   ]
  },
  {
   "cell_type": "markdown",
   "metadata": {},
   "source": [
    "# Unificando Tuplas"
   ]
  },
  {
   "cell_type": "code",
   "execution_count": 45,
   "metadata": {},
   "outputs": [
    {
     "name": "stdout",
     "output_type": "stream",
     "text": [
      "(2, 5, 4, 7)\n",
      "(8, 3, 1, 6)\n"
     ]
    }
   ],
   "source": [
    "a = (2, 5, 4, 7)\n",
    "print(a)\n",
    "b = (8, 3, 1, 6)\n",
    "print(b)"
   ]
  },
  {
   "cell_type": "code",
   "execution_count": 52,
   "metadata": {},
   "outputs": [
    {
     "name": "stdout",
     "output_type": "stream",
     "text": [
      "(2, 5, 4, 7, 8, 3, 1, 6)\n",
      "[1, 2, 3, 4, 5, 6, 7, 8]\n",
      "8\n",
      "1\n",
      "4\n"
     ]
    }
   ],
   "source": [
    "c = a + b\n",
    "print(c)\n",
    "print(sorted(c))\n",
    "print(len(c))\n",
    "print(c.count(5)) # quantas vezes aparece o número 5\n",
    "print(c.index(8)) # em qual posição está o 8\n"
   ]
  },
  {
   "cell_type": "markdown",
   "metadata": {},
   "source": [
    "Tuplas aceitam dados de tipos diferentes"
   ]
  },
  {
   "cell_type": "code",
   "execution_count": 54,
   "metadata": {},
   "outputs": [
    {
     "name": "stdout",
     "output_type": "stream",
     "text": [
      "('Marcos', 39, 'M', 1, 84, 86)\n"
     ]
    }
   ],
   "source": [
    "pessoa = ('Marcos', 39, 'M', 1,84, 86)\n",
    "print(pessoa)"
   ]
  },
  {
   "cell_type": "markdown",
   "metadata": {},
   "source": [
    "A Tupla é imutável. Eu não consigo excluir, adicionar ou modificar um elemento que está dentro da Tupla. Mas é possível exluir uma Tupla. Usando o comando del. você apaga a Tupla da memória."
   ]
  },
  {
   "cell_type": "code",
   "execution_count": 55,
   "metadata": {},
   "outputs": [
    {
     "ename": "NameError",
     "evalue": "name 'pessoa' is not defined",
     "output_type": "error",
     "traceback": [
      "\u001b[1;31m---------------------------------------------------------------------------\u001b[0m",
      "\u001b[1;31mNameError\u001b[0m                                 Traceback (most recent call last)",
      "\u001b[1;32m<ipython-input-55-4d581692dd8f>\u001b[0m in \u001b[0;36m<module>\u001b[1;34m\u001b[0m\n\u001b[0;32m      1\u001b[0m \u001b[1;32mdel\u001b[0m\u001b[1;33m(\u001b[0m\u001b[0mpessoa\u001b[0m\u001b[1;33m)\u001b[0m\u001b[1;33m\u001b[0m\u001b[1;33m\u001b[0m\u001b[0m\n\u001b[1;32m----> 2\u001b[1;33m \u001b[0mprint\u001b[0m\u001b[1;33m(\u001b[0m\u001b[0mpessoa\u001b[0m\u001b[1;33m)\u001b[0m\u001b[1;33m\u001b[0m\u001b[1;33m\u001b[0m\u001b[0m\n\u001b[0m",
      "\u001b[1;31mNameError\u001b[0m: name 'pessoa' is not defined"
     ]
    }
   ],
   "source": [
    "del(pessoa)\n",
    "print(pessoa)"
   ]
  },
  {
   "cell_type": "markdown",
   "metadata": {},
   "source": [
    "# Tupla com um valor"
   ]
  },
  {
   "cell_type": "code",
   "execution_count": 6,
   "metadata": {},
   "outputs": [
    {
     "name": "stdout",
     "output_type": "stream",
     "text": [
      "valor01\n",
      "<class 'str'>\n"
     ]
    }
   ],
   "source": [
    "tupla01 = ('valor01')\n",
    "print(tupla01)\n",
    "print(type(tupla01))"
   ]
  },
  {
   "cell_type": "code",
   "execution_count": 8,
   "metadata": {},
   "outputs": [
    {
     "name": "stdout",
     "output_type": "stream",
     "text": [
      "('valor02',)\n",
      "<class 'tuple'>\n"
     ]
    }
   ],
   "source": [
    "tupla02 = ('valor02', ) # faz necessário adicionar a vírgula para ser considerada uma tupla.\n",
    "print(tupla02)\n",
    "print(type(tupla02))"
   ]
  },
  {
   "cell_type": "code",
   "execution_count": null,
   "metadata": {},
   "outputs": [],
   "source": []
  }
 ],
 "metadata": {
  "kernelspec": {
   "display_name": "Python 3",
   "language": "python",
   "name": "python3"
  },
  "language_info": {
   "codemirror_mode": {
    "name": "ipython",
    "version": 3
   },
   "file_extension": ".py",
   "mimetype": "text/x-python",
   "name": "python",
   "nbconvert_exporter": "python",
   "pygments_lexer": "ipython3",
   "version": "3.7.3"
  }
 },
 "nbformat": 4,
 "nbformat_minor": 2
}
