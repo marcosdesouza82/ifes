{
 "cells": [
  {
   "cell_type": "markdown",
   "metadata": {},
   "source": [
    "# Exercício 5\n",
    "Crie um programa que vai ler vários números e colocar em uma lista.\n",
    "Depois disso, crie duas listas extras que vão contar apenas os valores pares e os valores impares digitados, respectivamente.\n",
    "Ao final mostre o conteúdo das três listas geradas.\n"
   ]
  },
  {
   "cell_type": "code",
   "execution_count": 6,
   "metadata": {},
   "outputs": [
    {
     "name": "stdout",
     "output_type": "stream",
     "text": [
      "Digite um número: 2\n",
      "Quem continuar? [S/N]s\n",
      "Digite um número: 5\n",
      "Quem continuar? [S/N]s\n",
      "Digite um número: 8\n",
      "Quem continuar? [S/N]s\n",
      "Digite um número: 2\n",
      "Quem continuar? [S/N]\n",
      "[2, 5, 8, 2]\n",
      "==============================\n",
      "Os valores da lista são: [2, 5, 8, 2]\n",
      "Os valores pares da lista são: [2, 8, 2]\n",
      "Os valores pares da lista são: [5]\n"
     ]
    }
   ],
   "source": [
    "num = list()\n",
    "pares = list()\n",
    "impares = list()\n",
    "while True:\n",
    "    num.append(int(input('Digite um número: ')))\n",
    "    resp = str(input('Quem continuar? [S/N]'))\n",
    "    if resp in 'Nn':\n",
    "        break\n",
    "print(num)\n",
    "for i, v in enumerate(num):\n",
    "    if v % 2 == 0:\n",
    "        pares.append(v)\n",
    "    elif v % 2 == 1:\n",
    "        impares.append(v)\n",
    "print('=' * 30)\n",
    "print(f'Os valores da lista são: {num}')\n",
    "print(f'Os valores pares da lista são: {pares}')\n",
    "print(f'Os valores pares da lista são: {impares}')\n",
    "        \n"
   ]
  },
  {
   "cell_type": "code",
   "execution_count": null,
   "metadata": {},
   "outputs": [],
   "source": [
    "# parte 1\n",
    "num = list()\n",
    "while True:\n",
    "    num.append(int(input('Digite um número: ')))\n",
    "    resp = str(input('Quem continuar? [S/N]'))\n",
    "    if resp in 'Nn':\n",
    "        break\n",
    "print(num)"
   ]
  },
  {
   "cell_type": "code",
   "execution_count": null,
   "metadata": {},
   "outputs": [],
   "source": [
    "num = list()\n",
    "pares = list()\n",
    "impares = list()\n",
    "while True:\n",
    "    num.append(int(input('Digite um número: ')))\n",
    "    resp = str(input('Quem continuar? [S/N]'))\n",
    "    if resp in 'Nn':\n",
    "        break\n",
    "print(num)\n",
    "for i, v in enumerate(num):\n",
    "    if v % 2 == 0:\n",
    "        pares.append(v)\n",
    "    elif v % 2 == 1:\n",
    "        impares.append(v)\n",
    "print('=' * 30)\n",
    "print(f'Os valores da lista são: {num}')\n",
    "print(f'Os valores pares da lista são: {pares}')\n",
    "print(f'Os valores pares da lista são: {impares}')"
   ]
  }
 ],
 "metadata": {
  "kernelspec": {
   "display_name": "Python 3",
   "language": "python",
   "name": "python3"
  },
  "language_info": {
   "codemirror_mode": {
    "name": "ipython",
    "version": 3
   },
   "file_extension": ".py",
   "mimetype": "text/x-python",
   "name": "python",
   "nbconvert_exporter": "python",
   "pygments_lexer": "ipython3",
   "version": "3.7.3"
  }
 },
 "nbformat": 4,
 "nbformat_minor": 2
}
