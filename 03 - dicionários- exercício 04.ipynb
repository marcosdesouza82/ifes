{
 "cells": [
  {
   "cell_type": "markdown",
   "metadata": {},
   "source": [
    "# Exercício 04\n",
    "Crie um programa que gerencie o aproveitamento de um jogador de futebol. O programa vai ler o nome do jogador e quantas partidas ele jogo. Depois vai ler a quantidade de gols feitos em casa partida. No final, tudo isso será guardado em um dicionário, incluindo o total de gols feitos durante o campeonato. \n"
   ]
  },
  {
   "cell_type": "code",
   "execution_count": 14,
   "metadata": {},
   "outputs": [
    {
     "name": "stdout",
     "output_type": "stream",
     "text": [
      "Qual o nome do jogador? Marcos\n",
      "Quantas partidas o Marcos jogou?2\n",
      "  Quantos gols na partida 1? 1\n",
      "  Quantos gols na partida 2? 1\n",
      "-=-=-=-=-=-=-=-=-=-=-=-=-=-=-=-=-=-=-=-=-=-=-=-=-=-=-=-=-=-=\n",
      "{'nome': 'Marcos', 'gols': [1, 1], 'total': 2}\n",
      "-=-=-=-=-=-=-=-=-=-=-=-=-=-=-=-=-=-=-=-=-=-=-=-=-=-=-=-=-=-=\n",
      "O campo nome tem o valor Marcos\n",
      "O campo gols tem o valor [1, 1]\n",
      "O campo total tem o valor 2\n",
      "-=-=-=-=-=-=-=-=-=-=-=-=-=-=-=-=-=-=-=-=-=-=-=-=-=-=-=-=-=-=\n",
      "O jogador Marcos jogou 2 partidas.\n",
      "   => Na partida 1, fez 1 gols.\n",
      "   => Na partida 2, fez 1 gols.\n",
      "Foi um total de 2 gols.\n"
     ]
    }
   ],
   "source": [
    "jogador = dict()\n",
    "partidas = list()\n",
    "jogador['nome'] = str(input('Qual o nome do jogador? '))\n",
    "total = int(input(f'Quantas partidas o {jogador [\"nome\"]} jogou?'))\n",
    "for c in range (0, total):\n",
    "    partidas.append(int(input(f'  Quantos gols na partida {c+1}? ')))\n",
    "jogador['gols'] = partidas[:] # jogador gols recebe um cópia de partidas\n",
    "jogador['total']  = sum(partidas) # total vai receber a soma de partidas\n",
    "print('-='*30)\n",
    "print(jogador)\n",
    "print('-='*30)\n",
    "for k, v in jogador.items():\n",
    "    print(f'O campo {k} tem o valor {v}')\n",
    "print('-='*30)                  \n",
    "print(f'O jogador {jogador[\"nome\"]} jogou {len(jogador[\"gols\"])} partidas.')\n",
    "for i, v in enumerate(jogador[\"gols\"]):\n",
    "    print(f'   => Na partida {i+1}, fez {v} gols.')\n",
    "print(f'Foi um total de {jogador[\"total\"]} gols.')\n"
   ]
  },
  {
   "cell_type": "code",
   "execution_count": 1,
   "metadata": {},
   "outputs": [
    {
     "name": "stdout",
     "output_type": "stream",
     "text": [
      "Qual o nome do jogador? Marcos\n",
      "Quantas partidas o Marcos jogou? 2\n"
     ]
    }
   ],
   "source": [
    "# parte 1\n",
    "jogador = dict()\n",
    "jogador['nome'] = str(input('Qual o nome do jogador? '))\n",
    "total = int(input(f'Quantas partidas o {jogador [\"nome\"]} jogou? '))"
   ]
  },
  {
   "cell_type": "code",
   "execution_count": null,
   "metadata": {},
   "outputs": [],
   "source": [
    "# parte 2\n",
    "jogador = dict()\n",
    "partidas = list()\n",
    "jogador['nome'] = str(input('Qual o nome do jogador? '))\n",
    "total = int(input(f'Quantas partidas o {jogador [\"nome\"]} jogou?'))\n",
    "for c in range (0, total):\n",
    "    partidas.append(int(input(f'  Quantos gols na partida {c}? ')))\n",
    "print(jogador)\n",
    "print(partidas) # Agora é criar uma chave chamada gols para que a lista vá para dentro do dicionário"
   ]
  },
  {
   "cell_type": "code",
   "execution_count": null,
   "metadata": {},
   "outputs": [],
   "source": [
    "# parte 3\n",
    "jogador = dict()\n",
    "partidas = list()\n",
    "jogador['nome'] = str(input('Qual o nome do jogador? '))\n",
    "total = int(input(f'Quantas partidas o {jogador [\"nome\"]} jogou?'))\n",
    "for c in range (0, total):\n",
    "    partidas.append(int(input(f'  Quantos gols na partida {c+1}? ')))\n",
    "jogador['gols'] = partidas[:]\n",
    "jogador['total']  = sum(partidas)\n",
    "print(jogador)"
   ]
  }
 ],
 "metadata": {
  "kernelspec": {
   "display_name": "Python 3",
   "language": "python",
   "name": "python3"
  },
  "language_info": {
   "codemirror_mode": {
    "name": "ipython",
    "version": 3
   },
   "file_extension": ".py",
   "mimetype": "text/x-python",
   "name": "python",
   "nbconvert_exporter": "python",
   "pygments_lexer": "ipython3",
   "version": "3.7.3"
  }
 },
 "nbformat": 4,
 "nbformat_minor": 2
}
